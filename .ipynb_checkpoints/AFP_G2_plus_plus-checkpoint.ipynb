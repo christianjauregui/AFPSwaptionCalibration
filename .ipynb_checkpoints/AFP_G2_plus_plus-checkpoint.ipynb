{
 "cells": [
  {
   "cell_type": "code",
   "execution_count": null,
   "metadata": {},
   "outputs": [],
   "source": [
    "# Parameter for the stochastic processes x and y \n",
    "a = 2.8187\n",
    "b = 0.0356\n",
    "\n",
    "sigma = 0.0579\n",
    "eta = 0.0091\n",
    "\n",
    "rho = -0.999"
   ]
  },
  {
   "cell_type": "code",
   "execution_count": null,
   "metadata": {},
   "outputs": [],
   "source": [
    "# initialze x and y \n",
    "x0 = 0\n",
    "y0 = 0\n"
   ]
  }
 ],
 "metadata": {
  "kernelspec": {
   "display_name": "Python 3",
   "language": "python",
   "name": "python3"
  },
  "language_info": {
   "codemirror_mode": {
    "name": "ipython",
    "version": 3
   },
   "file_extension": ".py",
   "mimetype": "text/x-python",
   "name": "python",
   "nbconvert_exporter": "python",
   "pygments_lexer": "ipython3",
   "version": "3.7.2"
  }
 },
 "nbformat": 4,
 "nbformat_minor": 2
}
